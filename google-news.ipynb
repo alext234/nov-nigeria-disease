{
 "cells": [
  {
   "cell_type": "code",
   "execution_count": 120,
   "metadata": {},
   "outputs": [],
   "source": [
    "import requests\n",
    "from bs4 import BeautifulSoup\n",
    "import re\n",
    "from datetime import datetime\n",
    "from selenium import webdriver\n",
    "from selenium.webdriver.chrome.options import Options\n",
    "import pandas as pd"
   ]
  },
  {
   "cell_type": "code",
   "execution_count": 121,
   "metadata": {},
   "outputs": [
    {
     "data": {
      "text/plain": [
       "'2020-02-11 19:42'"
      ]
     },
     "execution_count": 121,
     "metadata": {},
     "output_type": "execute_result"
    }
   ],
   "source": [
    "now = datetime.now()\n",
    "search_time = now.strftime(\"%Y-%m-%d %H:%M\")\n",
    "search_time"
   ]
  },
  {
   "cell_type": "code",
   "execution_count": 122,
   "metadata": {},
   "outputs": [],
   "source": [
    "chrome_options = Options()  \n",
    "chrome_options.add_argument(\"--headless\")  \n",
    "chrome_options.add_argument(\"--no-sandbox\")\n",
    "\n",
    "driver = webdriver.Chrome('chromedriver', options=chrome_options)"
   ]
  },
  {
   "cell_type": "code",
   "execution_count": 123,
   "metadata": {},
   "outputs": [],
   "source": [
    "last_num_hours = 1\n",
    "url = f'https://news.google.com/search?q=%22Nigeria%22%20%22disease%22%20%22mystery%22%20when%3A{last_num_hours}h&hl=en'\n",
    "driver.get(url)"
   ]
  },
  {
   "cell_type": "code",
   "execution_count": 124,
   "metadata": {},
   "outputs": [],
   "source": [
    "def extract_title_and_url(page_content):\n",
    "    soup = BeautifulSoup(content, 'lxml')\n",
    "\n",
    "    # find <a> elements inside <h3> elements\n",
    "    selector = 'h3 > a '\n",
    "    titles = [item.text for  item in soup.select(selector)]\n",
    "    hrefs = [item['href'] for  item in soup.select(selector)]\n",
    "    \n",
    "    selector = 'h3 ~ div ~ div > div > time '\n",
    "    datetimes = [item['datetime'] for  item in soup.select(selector)]\n",
    "    \n",
    "    \n",
    "    return pd.DataFrame({'title': titles, 'link': hrefs, \"datetime\": datetimes})"
   ]
  },
  {
   "cell_type": "code",
   "execution_count": 125,
   "metadata": {},
   "outputs": [
    {
     "data": {
      "text/html": [
       "<div>\n",
       "<style scoped>\n",
       "    .dataframe tbody tr th:only-of-type {\n",
       "        vertical-align: middle;\n",
       "    }\n",
       "\n",
       "    .dataframe tbody tr th {\n",
       "        vertical-align: top;\n",
       "    }\n",
       "\n",
       "    .dataframe thead th {\n",
       "        text-align: right;\n",
       "    }\n",
       "</style>\n",
       "<table border=\"1\" class=\"dataframe\">\n",
       "  <thead>\n",
       "    <tr style=\"text-align: right;\">\n",
       "      <th></th>\n",
       "      <th>title</th>\n",
       "      <th>link</th>\n",
       "      <th>datetime</th>\n",
       "    </tr>\n",
       "  </thead>\n",
       "  <tbody>\n",
       "    <tr>\n",
       "      <th>0</th>\n",
       "      <td>New Mystery Illness Found In Nigeria, Already ...</td>\n",
       "      <td>./articles/CBMic2h0dHBzOi8vd3d3Lndvcmxkb2ZidXp...</td>\n",
       "      <td>2020-02-11T03:45:51Z</td>\n",
       "    </tr>\n",
       "    <tr>\n",
       "      <th>1</th>\n",
       "      <td>Nigeria warns of ‘strange epidemic outbreak’ a...</td>\n",
       "      <td>./articles/CBMigwFodHRwczovL3d3dy5leHByZXNzLmN...</td>\n",
       "      <td>2020-02-11T18:08:00Z</td>\n",
       "    </tr>\n",
       "  </tbody>\n",
       "</table>\n",
       "</div>"
      ],
      "text/plain": [
       "                                               title  \\\n",
       "0  New Mystery Illness Found In Nigeria, Already ...   \n",
       "1  Nigeria warns of ‘strange epidemic outbreak’ a...   \n",
       "\n",
       "                                                link              datetime  \n",
       "0  ./articles/CBMic2h0dHBzOi8vd3d3Lndvcmxkb2ZidXp...  2020-02-11T03:45:51Z  \n",
       "1  ./articles/CBMigwFodHRwczovL3d3dy5leHByZXNzLmN...  2020-02-11T18:08:00Z  "
      ]
     },
     "execution_count": 125,
     "metadata": {},
     "output_type": "execute_result"
    }
   ],
   "source": [
    "content = driver.page_source\n",
    "\n",
    "new_df = extract_title_and_url(content)\n",
    "new_df"
   ]
  },
  {
   "cell_type": "code",
   "execution_count": 126,
   "metadata": {},
   "outputs": [],
   "source": [
    "csv_file = 'data/google-news-links.csv'\n",
    "df = pd.read_csv(csv_file)\n"
   ]
  },
  {
   "cell_type": "code",
   "execution_count": 127,
   "metadata": {},
   "outputs": [],
   "source": [
    "df = df.append(new_df)"
   ]
  },
  {
   "cell_type": "code",
   "execution_count": 128,
   "metadata": {},
   "outputs": [],
   "source": [
    "df.drop_duplicates(subset=['title'], inplace=True, keep='first')"
   ]
  },
  {
   "cell_type": "code",
   "execution_count": 129,
   "metadata": {},
   "outputs": [],
   "source": [
    "df.to_csv(csv_file, index=False)"
   ]
  },
  {
   "cell_type": "code",
   "execution_count": 130,
   "metadata": {},
   "outputs": [
    {
     "data": {
      "text/plain": [
       "(2, 3)"
      ]
     },
     "execution_count": 130,
     "metadata": {},
     "output_type": "execute_result"
    }
   ],
   "source": [
    "df.shape"
   ]
  },
  {
   "cell_type": "markdown",
   "metadata": {},
   "source": [
    "### save the counts"
   ]
  },
  {
   "cell_type": "code",
   "execution_count": 131,
   "metadata": {},
   "outputs": [],
   "source": [
    "count_csv_file = 'data/google-news-counts.csv'\n",
    "df_counts = pd.read_csv(count_csv_file)"
   ]
  },
  {
   "cell_type": "code",
   "execution_count": 132,
   "metadata": {},
   "outputs": [],
   "source": [
    "df_counts = df_counts.append({'search_time': search_time, 'total_count':df.shape[0]}, ignore_index=True)"
   ]
  },
  {
   "cell_type": "code",
   "execution_count": 133,
   "metadata": {},
   "outputs": [],
   "source": [
    "df_counts.to_csv(count_csv_file, index=False)"
   ]
  },
  {
   "cell_type": "markdown",
   "metadata": {},
   "source": []
  }
 ],
 "metadata": {
  "kernelspec": {
   "display_name": "Python 3",
   "language": "python",
   "name": "python3"
  },
  "language_info": {
   "codemirror_mode": {
    "name": "ipython",
    "version": 3
   },
   "file_extension": ".py",
   "mimetype": "text/x-python",
   "name": "python",
   "nbconvert_exporter": "python",
   "pygments_lexer": "ipython3",
   "version": "3.7.4"
  }
 },
 "nbformat": 4,
 "nbformat_minor": 4
}
